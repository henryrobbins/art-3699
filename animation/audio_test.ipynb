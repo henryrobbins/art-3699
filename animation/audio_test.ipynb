{
 "cells": [
  {
   "cell_type": "code",
   "execution_count": null,
   "metadata": {},
   "outputs": [],
   "source": [
    "import mingus \n",
    "import fluidsynth as fs\n",
    "import time\n",
    "from midi2audio import FluidSynth\n",
    "import mingus.midi\n",
    "from mingus.midi.midi_file_out import write_Track\n",
    "from mingus.midi import fluidsynth\n",
    "from mingus.containers import Note\n",
    "import mingus.core.notes as notes\n",
    "from mingus.containers import Track"
   ]
  },
  {
   "cell_type": "code",
   "execution_count": null,
   "metadata": {},
   "outputs": [],
   "source": [
    "t = Track()\n",
    "for note in [\"G\",\"B\",\"C\",\"D\",\"E\",\"F\"]:\n",
    "    t.add_notes(note)\n",
    "\n",
    "# t = Track().from_chords([[\"Cm/M7|FM\"]], 1)"
   ]
  },
  {
   "cell_type": "code",
   "execution_count": null,
   "metadata": {},
   "outputs": [],
   "source": [
    "sf2 = \"../sounds/198-Stratocaster VS.sf2\"\n",
    "fluidsynth.init(sf2);\n",
    "fluidsynth.play_Track(t);\n",
    "write_Track(\"test.midi\", t);\n",
    "fs = FluidSynth(sf2)\n",
    "fs.midi_to_audio(\"test.midi\", 'input.wav')"
   ]
  },
  {
   "cell_type": "code",
   "execution_count": null,
   "metadata": {},
   "outputs": [],
   "source": [
    "# https://stackoverflow.com/questions/27028157/writing-a-program-converts-guitar-tabs-to-notes\n",
    "NOTES = {\"C\" : 0, \"C#\" : 1,  \"D\": 2, \"D#\" : 3, \"E\": 4, \"F\": 5, \n",
    "   \"F#\" : 6, \"G\":  7, \"G#\" : 8, \"A\": 9, \"A#\" : 10, \"B\": 11}\n",
    "TUNING = {\"E\" : 5, \"A\" : 4, \"D\" : 3, \"G\" : 2, \"B\" : 1, \"E\" : 0}\n",
    "\n",
    "NAMES = dict([(v, k) for (k, v) in NOTES.items()])\n",
    "TUNING = dict([(v, k) for (k, v) in TUNING.items()])\n",
    "\n",
    "def GetNote(baseNote, fretNum):\n",
    "    if baseNote == -1:\n",
    "        return None\n",
    "    fretNoteNum = (baseNote + fretNum) % 12\n",
    "    return NAMES[fretNoteNum]"
   ]
  },
  {
   "cell_type": "code",
   "execution_count": null,
   "metadata": {},
   "outputs": [],
   "source": [
    "tab = \"\"\"\n",
    "––––––––––––––––3––3–3––3–––––––––––––––––3––3–3––3–––\n",
    "––––––––––––––––3––3–3––3–––––––––––––––––3––3–3––3–––\n",
    "––––––––––––––––0––0–0––0––––––––0––––––––0––0–0––0–––\n",
    "–––––––––0–2––––2––2–2––2––––––2–––2–0––––0––0–0––0–––\n",
    "–––––02–––––––––––––––––––––––––––––––––––––––––––––––\n",
    "–––3––––––––––––––––––––––––––––––––––––––––––––––––––\n",
    "\"\"\""
   ]
  },
  {
   "cell_type": "code",
   "execution_count": null,
   "metadata": {},
   "outputs": [],
   "source": [
    "import numpy as np\n",
    "np_tab = np.array([list(string) for string in tab.split('\\n')[1:7]])\n",
    "np_tab = np.where(np_tab == '–', '-1', np_tab).astype(int)\n",
    "\n",
    "chords = []\n",
    "for i in range(np_tab.shape[1]):\n",
    "    chord = [GetNote(j,i) for j in np_tab[:,i] if GetNote(j,i) is not None]\n",
    "    chords.append(chord)\n",
    "    \n",
    "t = Track().from_chords(chords,1)"
   ]
  },
  {
   "cell_type": "code",
   "execution_count": null,
   "metadata": {},
   "outputs": [],
   "source": [
    "from scipy.interpolate import interp1d\n",
    "from scipy.io import wavfile"
   ]
  },
  {
   "cell_type": "code",
   "execution_count": null,
   "metadata": {},
   "outputs": [],
   "source": [
    "def apply_transfer(signal, transfer, interpolation='linear'):\n",
    "    constant = np.linspace(-1, 1, len(transfer))\n",
    "    interpolator = interp1d(constant, transfer, interpolation)\n",
    "    return interpolator(signal)\n",
    "\n",
    "# hard limiting\n",
    "def limiter(x, treshold=0.8):\n",
    "    transfer_len = 1000\n",
    "    transfer = np.concatenate([ np.repeat(-1, int(((1-treshold)/2)*transfer_len)),\n",
    "                                np.linspace(-1, 1, int(treshold*transfer_len)),\n",
    "                                np.repeat(1, int(((1-treshold)/2)*transfer_len)) ])\n",
    "    return apply_transfer(x, transfer)\n",
    "\n",
    "# smooth compression: if factor is small, its near linear, the bigger it is the\n",
    "# stronger the compression\n",
    "def arctan_compressor(x, factor=2):\n",
    "    constant = np.linspace(-1, 1, 1000)\n",
    "    transfer = np.arctan(factor * constant)\n",
    "    transfer /= np.abs(transfer).max()\n",
    "    return apply_transfer(x, transfer)"
   ]
  },
  {
   "cell_type": "code",
   "execution_count": null,
   "metadata": {},
   "outputs": [],
   "source": [
    "sr, x = wavfile.read(\"input.wav\")\n",
    "x = x / np.abs(x).max() # x scale between -1 and 1\n",
    "\n",
    "x2 = limiter(x)\n",
    "x2 = np.int16(x2 * 32767)\n",
    "wavfile.write(\"output_limit.wav\", sr, x2)\n",
    "\n",
    "x3 = arctan_compressor(x)\n",
    "x3 = np.int16(x3 * 32767)\n",
    "wavfile.write(\"output_comp.wav\", sr, x3)"
   ]
  },
  {
   "cell_type": "code",
   "execution_count": null,
   "metadata": {},
   "outputs": [],
   "source": [
    "wavfile.write(\"white_noise.wav\", 25000, np.random.rand(700000,2))"
   ]
  },
  {
   "cell_type": "code",
   "execution_count": null,
   "metadata": {},
   "outputs": [],
   "source": [
    "wave = list(0.5*np.sin(0.05*np.linspace(0,500000,1000000)))\n",
    "r = wave * np.maximum(np.sin(0.00005*np.linspace(0,500000,1000000)),0)\n",
    "l = wave * np.maximum(-np.sin(0.00005*np.linspace(0,500000,1000000)),0)\n",
    "wavfile.write(\"white_noise.wav\", 48000, np.array([r,l]).T)"
   ]
  }
 ],
 "metadata": {
  "kernelspec": {
   "display_name": "Python 3",
   "language": "python",
   "name": "python3"
  },
  "language_info": {
   "codemirror_mode": {
    "name": "ipython",
    "version": 3
   },
   "file_extension": ".py",
   "mimetype": "text/x-python",
   "name": "python",
   "nbconvert_exporter": "python",
   "pygments_lexer": "ipython3",
   "version": "3.6.10"
  }
 },
 "nbformat": 4,
 "nbformat_minor": 4
}
