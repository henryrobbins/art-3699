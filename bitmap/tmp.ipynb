{
 "cells": [
  {
   "cell_type": "code",
   "execution_count": 120,
   "metadata": {},
   "outputs": [],
   "source": [
    "# imports\n",
    "import os \n",
    "import netpbm\n",
    "import numpy as np"
   ]
  },
  {
   "cell_type": "code",
   "execution_count": 133,
   "metadata": {},
   "outputs": [],
   "source": [
    "# parameters\n",
    "name = 'faces'\n",
    "lb = 1\n",
    "ub = 25\n",
    "M, w, h, max_val = netpbm.read('mod/%s.pgm' % (name))"
   ]
  },
  {
   "cell_type": "code",
   "execution_count": 129,
   "metadata": {},
   "outputs": [],
   "source": [
    "for i in range(lb, ub+1):\n",
    "    M_prime = np.array(list(map(lambda x: x % i, M)))\n",
    "    netpbm.write('mod/%s/%s_mod_%s.pgm' % (name, name, str(i).zfill(3)), M_prime, max_val=i)\n",
    "#     os.system('python enlarge.py mod/%s/%s_mod_%d.pgm 8' % (name, alpha));"
   ]
  },
  {
   "cell_type": "code",
   "execution_count": 134,
   "metadata": {},
   "outputs": [],
   "source": [
    "# single file\n",
    "alpha = 12\n",
    "M_prime = np.array(list(map(lambda x: x % alpha, M)))\n",
    "netpbm.write('mod/%s_mod_%d.pgm' % (name, alpha), M_prime, max_val=alpha)\n",
    "os.system('python enlarge.py mod/%s_mod_%d.pgm 8' % (name, alpha));"
   ]
  }
 ],
 "metadata": {
  "kernelspec": {
   "display_name": "Python 3",
   "language": "python",
   "name": "python3"
  },
  "language_info": {
   "codemirror_mode": {
    "name": "ipython",
    "version": 3
   },
   "file_extension": ".py",
   "mimetype": "text/x-python",
   "name": "python",
   "nbconvert_exporter": "python",
   "pygments_lexer": "ipython3",
   "version": "3.6.10"
  }
 },
 "nbformat": 4,
 "nbformat_minor": 4
}
