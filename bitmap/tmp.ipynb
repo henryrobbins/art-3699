{
 "cells": [
  {
   "cell_type": "code",
   "execution_count": 3,
   "metadata": {},
   "outputs": [],
   "source": [
    "# imports\n",
    "import os \n",
    "import netpbm\n",
    "import numpy as np"
   ]
  },
  {
   "cell_type": "code",
   "execution_count": 7,
   "metadata": {},
   "outputs": [
    {
     "name": "stdout",
     "output_type": "stream",
     "text": [
      "Help on module netpbm:\n",
      "\n",
      "NAME\n",
      "    netpbm\n",
      "\n",
      "FUNCTIONS\n",
      "    enlarge(M, k)\n",
      "        Enlarge some NumPy array by the multiplier k.\n",
      "        \n",
      "        Args:\n",
      "            M (np.ndarray): NumPy array of integers.\n",
      "            k (int): Multiplier by which to enlarge the array M.shape\n",
      "        \n",
      "        Returns:\n",
      "            np.ndarray: The NumyPy array M enlarged by the multiplier k.\n",
      "    \n",
      "    read(file_name:str)\n",
      "        Read the Netpbm file and return a NumPy matrix.\n",
      "        \n",
      "        Args:\n",
      "            file_name (str): Name of the Netpbm file.\n",
      "        \n",
      "        Returns:\n",
      "            np.ndarray: NumPy matrix representing the Netpbm file.\n",
      "            int: width of the Netpbm file.\n",
      "            int: height of the Netpbm file.\n",
      "            int: maximum value of greys between black and white.\n",
      "    \n",
      "    write(file_name:str, M:numpy.ndarray, max_val:int)\n",
      "        Write the Netpbm file given the associated matrix of nunbers.\n",
      "        \n",
      "        Args:\n",
      "            file_name (str): Name of the Netpbm file to be written.\n",
      "            M (np.ndarray): NumPy array of integers.\n",
      "\n",
      "FILE\n",
      "    /Users/Henry/git/art-3699/bitmap/netpbm.py\n",
      "\n",
      "\n"
     ]
    }
   ],
   "source": [
    "help(netpbm)"
   ]
  },
  {
   "cell_type": "code",
   "execution_count": 2,
   "metadata": {},
   "outputs": [],
   "source": [
    "# parameters\n",
    "name = 'faces'\n",
    "lb = 1\n",
    "ub = 255\n",
    "M, w, h, max_val = netpbm.read('mod/%s.pgm' % (name))"
   ]
  },
  {
   "cell_type": "code",
   "execution_count": null,
   "metadata": {},
   "outputs": [],
   "source": [
    "for i in range(lb, ub+1):\n",
    "    M_prime = np.array(list(map(lambda x: x % i, M)))\n",
    "    netpbm.write('mod/%s/%s_mod_%s.pgm' % (name, name, str(i).zfill(3)), M_prime, max_val=i)\n",
    "#     os.system('python enlarge.py mod/%s/%s_mod_%d.pgm 8' % (name, alpha));"
   ]
  },
  {
   "cell_type": "code",
   "execution_count": 3,
   "metadata": {},
   "outputs": [],
   "source": [
    "# single file\n",
    "alpha = 14\n",
    "M_prime = np.array(list(map(lambda x: x % alpha, M)))\n",
    "M_prime = netpbm.enlarge(M_prime, 8)\n",
    "netpbm.write('mod/%s_mod_%d.pgm' % (name, alpha), M_prime, max_val=alpha)"
   ]
  },
  {
   "cell_type": "code",
   "execution_count": null,
   "metadata": {},
   "outputs": [],
   "source": []
  }
 ],
 "metadata": {
  "kernelspec": {
   "display_name": "Python 3",
   "language": "python",
   "name": "python3"
  },
  "language_info": {
   "codemirror_mode": {
    "name": "ipython",
    "version": 3
   },
   "file_extension": ".py",
   "mimetype": "text/x-python",
   "name": "python",
   "nbconvert_exporter": "python",
   "pygments_lexer": "ipython3",
   "version": "3.6.10"
  }
 },
 "nbformat": 4,
 "nbformat_minor": 4
}
