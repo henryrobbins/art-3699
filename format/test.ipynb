{
 "cells": [
  {
   "cell_type": "code",
   "execution_count": 145,
   "metadata": {},
   "outputs": [],
   "source": [
    "import numpy as np\n",
    "import math"
   ]
  },
  {
   "cell_type": "code",
   "execution_count": 183,
   "metadata": {},
   "outputs": [
    {
     "data": {
      "text/plain": [
       "'Lorem ipsum dolor sit amet, consectetur adipiscing elit. Aliquam efficitur eros id rutrum feugiat. Praesent diam ligula, aliquam et ex id, volutpat malesuada diam. Mauris dapibus fermentum nisi, a bibendum lectus suscipit ac. Mauris vulputate nulla eu velit porta, sit amet ultrices diam efficitur. Suspendisse tincidunt blandit purus vel varius. Mauris mi velit, ultricies pellentesque tincidunt eget, pretium ut mi. Fusce convallis nunc pharetra porta bibendum. Donec sit amet augue maximus, malesuada metus a, sollicitudin leo. Interdum et malesuada fames ac ante ipsum primis in faucibus. Proin a faucibus neque, quis varius eros. Sed id feugiat eros. Vestibulum vestibulum aliquet convallis. Ut tempus nibh quis mi mattis, quis dignissim urna rutrum. Fusce libero libero, lobortis eget vestibulum nec, facilisis eu mi. Aliquam ultricies, justo ac venenatis ultrices, magna est dictum metus, eu faucibus odio nisi porta dui. Sed diam augue, ornare ac arcu vel, vulputate posuere libero. Lorem ipsum dolor sit amet, consectetur adipiscing elit. Quisque at suscipit odio. Aliquam eget orci non lorem consectetur ultricies at eget velit. Cras sed varius ipsum, sit amet hendrerit arcu. Aenean dignissim sagittis quam posuere aliquet. Phasellus facilisis et nulla vitae mollis. Ut sit amet ultrices nisi, at vestibulum velit.'"
      ]
     },
     "execution_count": 183,
     "metadata": {},
     "output_type": "execute_result"
    }
   ],
   "source": [
    "open('text.txt').readlines()[0]"
   ]
  },
  {
   "cell_type": "code",
   "execution_count": 146,
   "metadata": {},
   "outputs": [],
   "source": [
    "def dijkstras(A, s=0):\n",
    "    d = [float('inf')] * len(A)\n",
    "    p = [float('nan')] * len(A)\n",
    "    ps = [list(p)]\n",
    "    S = []\n",
    "    F = []\n",
    "    F.append(s)\n",
    "    d[s] = 0\n",
    "    while len(F) > 0:\n",
    "        F.sort(reverse=True, key=lambda x: d[x])\n",
    "        f = F.pop()\n",
    "        S.append(f)\n",
    "        for w in range(len(A)): \n",
    "            if A[f][w] != 0:\n",
    "                if w not in S and w not in F:\n",
    "                    d[w] = d[f] + A[f][w]\n",
    "                    p[w] = f\n",
    "                    F.append(w)\n",
    "                else:\n",
    "                    if d[f] + A[f][w] < d[w]:\n",
    "                        d[w] = d[f] + A[f][w]\n",
    "                        p[w] = f \n",
    "        ps.append(list(p))\n",
    "    return ps"
   ]
  },
  {
   "cell_type": "code",
   "execution_count": 147,
   "metadata": {},
   "outputs": [],
   "source": [
    "def instance(text, L=79):\n",
    "    w = [''] + text.split(' ')\n",
    "    c = [len(i) for i in w]\n",
    "    A = np.zeros((len(w),len(w)))\n",
    "    for i in range(len(A)):\n",
    "        for j in range(len(A)):\n",
    "            if i < j:\n",
    "                l = sum(c[k] + 1 for k in range(i+1, j)) + c[j]\n",
    "                A[i,j] = (L - l)**2\n",
    "    return w, A"
   ]
  },
  {
   "cell_type": "code",
   "execution_count": 148,
   "metadata": {},
   "outputs": [],
   "source": [
    "def get_path(p, j):\n",
    "    path = []\n",
    "    while not math.isnan(p[j]):\n",
    "        path[0:0] = [p[j]]\n",
    "        j = p[j]\n",
    "    return path"
   ]
  },
  {
   "cell_type": "code",
   "execution_count": 172,
   "metadata": {},
   "outputs": [],
   "source": [
    "def format_text(w, path):\n",
    "    formatted = ''\n",
    "    for i in range(len(path)-1):\n",
    "        formatted += (' '.join(w[path[i]+1:path[i+1]+1]) + '\\n')\n",
    "    return '\"' + formatted + '\"' "
   ]
  },
  {
   "cell_type": "code",
   "execution_count": 173,
   "metadata": {},
   "outputs": [],
   "source": [
    "text = \"Lorem ipsum dolor sit amet, consectetur adipiscing elit, sed do eiusmod tempor incididunt ut labore et dolore magna aliqua. Ut enim ad minim veniam, quis nostrud exercitation ullamco laboris nisi ut aliquip ex ea commodo consequat. Duis aute irure dolor in reprehenderit in voluptate velit esse cillum dolore eu fugiat nulla pariatur.\""
   ]
  },
  {
   "cell_type": "code",
   "execution_count": 180,
   "metadata": {},
   "outputs": [],
   "source": [
    "w, A = instance(text, L=45)\n",
    "ps = dijkstras(A,0)\n",
    "stages = ' '.join([format_text(w, get_path(p, len(p)-1)) for p in ps])\n"
   ]
  },
  {
   "cell_type": "code",
   "execution_count": 181,
   "metadata": {},
   "outputs": [
    {
     "data": {
      "text/plain": [
       "'\"\" \"\" \"Lorem ipsum dolor sit amet, consectetur adipiscing\\n\" \"Lorem ipsum dolor sit amet, consectetur adipiscing\\nelit, sed do eiusmod tempor incididunt ut labore\\n\" \"Lorem ipsum dolor sit amet, consectetur adipiscing\\nelit, sed do eiusmod tempor incididunt ut labore\\n\" \"Lorem ipsum dolor sit amet, consectetur adipiscing\\nelit, sed do eiusmod tempor incididunt ut labore\\n\" \"Lorem ipsum dolor sit amet, consectetur adipiscing\\nelit, sed do eiusmod tempor incididunt ut labore\\net dolore magna aliqua. Ut enim ad minim veniam,\\n\" \"Lorem ipsum dolor sit amet, consectetur adipiscing\\nelit, sed do eiusmod tempor incididunt ut labore\\net dolore magna aliqua. Ut enim ad minim veniam,\\nquis nostrud exercitation ullamco laboris nisi\\n\" \"Lorem ipsum dolor sit amet, consectetur adipiscing\\nelit, sed do eiusmod tempor incididunt ut labore\\net dolore magna aliqua. Ut enim ad minim veniam,\\nquis nostrud exercitation ullamco laboris nisi\\n\" \"Lorem ipsum dolor sit amet, consectetur adipiscing\\nelit, sed do eiusmod tempor incididunt ut labore\\net dolore magna aliqua. Ut enim ad minim veniam,\\nquis nostrud exercitation ullamco laboris nisi\\n\" \"Lorem ipsum dolor sit amet, consectetur adipiscing\\nelit, sed do eiusmod tempor incididunt ut labore\\net dolore magna aliqua. Ut enim ad minim veniam,\\nquis nostrud exercitation ullamco laboris nisi\\n\" \"Lorem ipsum dolor sit amet, consectetur adipiscing\\nelit, sed do eiusmod tempor incididunt ut labore\\net dolore magna aliqua. Ut enim ad minim veniam,\\nquis nostrud exercitation ullamco laboris nisi\\n\" \"Lorem ipsum dolor sit amet, consectetur adipiscing\\nelit, sed do eiusmod tempor incididunt ut labore\\net dolore magna aliqua. Ut enim ad minim veniam,\\nquis nostrud exercitation ullamco laboris nisi\\n\" \"Lorem ipsum dolor sit amet, consectetur adipiscing\\nelit, sed do eiusmod tempor incididunt ut labore\\net dolore magna aliqua. Ut enim ad minim veniam,\\nquis nostrud exercitation ullamco laboris nisi ut\\n\" \"Lorem ipsum dolor sit amet, consectetur adipiscing\\nelit, sed do eiusmod tempor incididunt ut labore\\net dolore magna aliqua. Ut enim ad minim veniam,\\nquis nostrud exercitation ullamco laboris nisi ut\\n\" \"Lorem ipsum dolor sit amet, consectetur\\nadipiscing elit, sed do eiusmod tempor incididunt\\nut labore et dolore magna aliqua. Ut enim ad\\nminim veniam, quis nostrud exercitation ullamco\\nlaboris nisi ut aliquip ex ea commodo consequat.\\n\" \"Lorem ipsum dolor sit amet, consectetur\\nadipiscing elit, sed do eiusmod tempor incididunt\\nut labore et dolore magna aliqua. Ut enim ad\\nminim veniam, quis nostrud exercitation ullamco\\nlaboris nisi ut aliquip ex ea commodo consequat.\\n\" \"Lorem ipsum dolor sit amet, consectetur adipiscing\\nelit, sed do eiusmod tempor incididunt ut labore\\net dolore magna aliqua. Ut enim ad minim veniam,\\nquis nostrud exercitation ullamco laboris nisi ut\\naliquip ex ea commodo consequat. Duis aute irure\\n\" \"Lorem ipsum dolor sit amet, consectetur adipiscing\\nelit, sed do eiusmod tempor incididunt ut labore\\net dolore magna aliqua. Ut enim ad minim veniam,\\nquis nostrud exercitation ullamco laboris nisi ut\\naliquip ex ea commodo consequat. Duis aute irure\\n\" \"Lorem ipsum dolor sit amet, consectetur adipiscing\\nelit, sed do eiusmod tempor incididunt ut labore\\net dolore magna aliqua. Ut enim ad minim veniam,\\nquis nostrud exercitation ullamco laboris nisi ut\\naliquip ex ea commodo consequat. Duis aute irure\\n\" \"Lorem ipsum dolor sit amet, consectetur adipiscing\\nelit, sed do eiusmod tempor incididunt ut labore\\net dolore magna aliqua. Ut enim ad minim veniam,\\nquis nostrud exercitation ullamco laboris nisi ut\\naliquip ex ea commodo consequat. Duis aute irure\\ndolor in reprehenderit in voluptate velit esse\\n\" \"Lorem ipsum dolor sit amet, consectetur adipiscing\\nelit, sed do eiusmod tempor incididunt ut labore\\net dolore magna aliqua. Ut enim ad minim veniam,\\nquis nostrud exercitation ullamco laboris nisi\\nut aliquip ex ea commodo consequat. Duis\\naute irure dolor in reprehenderit in voluptate\\n\" \"Lorem ipsum dolor sit amet, consectetur adipiscing\\nelit, sed do eiusmod tempor incididunt ut labore\\net dolore magna aliqua. Ut enim ad minim veniam,\\nquis nostrud exercitation ullamco laboris nisi ut\\naliquip ex ea commodo consequat. Duis aute\\nirure dolor in reprehenderit in voluptate velit\\n\" \"Lorem ipsum dolor sit amet, consectetur adipiscing\\nelit, sed do eiusmod tempor incididunt ut labore\\net dolore magna aliqua. Ut enim ad minim veniam,\\nquis nostrud exercitation ullamco laboris nisi ut\\naliquip ex ea commodo consequat. Duis aute\\nirure dolor in reprehenderit in voluptate velit\\n\" \"Lorem ipsum dolor sit amet, consectetur adipiscing\\nelit, sed do eiusmod tempor incididunt ut labore\\net dolore magna aliqua. Ut enim ad minim veniam,\\nquis nostrud exercitation ullamco laboris nisi ut\\naliquip ex ea commodo consequat. Duis aute\\nirure dolor in reprehenderit in voluptate velit\\n\" \"Lorem ipsum dolor sit amet, consectetur adipiscing\\nelit, sed do eiusmod tempor incididunt ut labore\\net dolore magna aliqua. Ut enim ad minim veniam,\\nquis nostrud exercitation ullamco laboris nisi ut\\naliquip ex ea commodo consequat. Duis aute\\nirure dolor in reprehenderit in voluptate velit\\n\" \"Lorem ipsum dolor sit amet, consectetur adipiscing\\nelit, sed do eiusmod tempor incididunt ut labore\\net dolore magna aliqua. Ut enim ad minim veniam,\\nquis nostrud exercitation ullamco laboris nisi ut\\naliquip ex ea commodo consequat. Duis aute\\nirure dolor in reprehenderit in voluptate velit\\n\" \"Lorem ipsum dolor sit amet, consectetur adipiscing\\nelit, sed do eiusmod tempor incididunt ut labore\\net dolore magna aliqua. Ut enim ad minim veniam,\\nquis nostrud exercitation ullamco laboris nisi ut\\naliquip ex ea commodo consequat. Duis aute\\nirure dolor in reprehenderit in voluptate velit\\n\" \"Lorem ipsum dolor sit amet, consectetur adipiscing\\nelit, sed do eiusmod tempor incididunt ut labore\\net dolore magna aliqua. Ut enim ad minim veniam,\\nquis nostrud exercitation ullamco laboris nisi ut\\naliquip ex ea commodo consequat. Duis aute\\nirure dolor in reprehenderit in voluptate velit\\n\" \"Lorem ipsum dolor sit amet, consectetur adipiscing\\nelit, sed do eiusmod tempor incididunt ut labore\\net dolore magna aliqua. Ut enim ad minim veniam,\\nquis nostrud exercitation ullamco laboris nisi ut\\naliquip ex ea commodo consequat. Duis aute\\nirure dolor in reprehenderit in voluptate velit\\n\" \"Lorem ipsum dolor sit amet, consectetur adipiscing\\nelit, sed do eiusmod tempor incididunt ut labore\\net dolore magna aliqua. Ut enim ad minim veniam,\\nquis nostrud exercitation ullamco laboris nisi ut\\naliquip ex ea commodo consequat. Duis aute\\nirure dolor in reprehenderit in voluptate velit\\n\" \"Lorem ipsum dolor sit amet, consectetur adipiscing\\nelit, sed do eiusmod tempor incididunt ut labore\\net dolore magna aliqua. Ut enim ad minim veniam,\\nquis nostrud exercitation ullamco laboris nisi ut\\naliquip ex ea commodo consequat. Duis aute\\nirure dolor in reprehenderit in voluptate velit\\n\" \"Lorem ipsum dolor sit amet, consectetur adipiscing\\nelit, sed do eiusmod tempor incididunt ut labore\\net dolore magna aliqua. Ut enim ad minim veniam,\\nquis nostrud exercitation ullamco laboris nisi ut\\naliquip ex ea commodo consequat. Duis aute\\nirure dolor in reprehenderit in voluptate velit\\n\" \"Lorem ipsum dolor sit amet, consectetur adipiscing\\nelit, sed do eiusmod tempor incididunt ut labore\\net dolore magna aliqua. Ut enim ad minim veniam,\\nquis nostrud exercitation ullamco laboris nisi ut\\naliquip ex ea commodo consequat. Duis aute\\nirure dolor in reprehenderit in voluptate velit\\n\" \"Lorem ipsum dolor sit amet, consectetur adipiscing\\nelit, sed do eiusmod tempor incididunt ut labore\\net dolore magna aliqua. Ut enim ad minim veniam,\\nquis nostrud exercitation ullamco laboris nisi ut\\naliquip ex ea commodo consequat. Duis aute\\nirure dolor in reprehenderit in voluptate velit\\n\" \"Lorem ipsum dolor sit amet, consectetur adipiscing\\nelit, sed do eiusmod tempor incididunt ut labore\\net dolore magna aliqua. Ut enim ad minim veniam,\\nquis nostrud exercitation ullamco laboris nisi ut\\naliquip ex ea commodo consequat. Duis aute\\nirure dolor in reprehenderit in voluptate velit\\n\" \"Lorem ipsum dolor sit amet, consectetur adipiscing\\nelit, sed do eiusmod tempor incididunt ut labore\\net dolore magna aliqua. Ut enim ad minim veniam,\\nquis nostrud exercitation ullamco laboris nisi ut\\naliquip ex ea commodo consequat. Duis aute\\nirure dolor in reprehenderit in voluptate velit\\n\" \"Lorem ipsum dolor sit amet, consectetur adipiscing\\nelit, sed do eiusmod tempor incididunt ut labore\\net dolore magna aliqua. Ut enim ad minim veniam,\\nquis nostrud exercitation ullamco laboris nisi ut\\naliquip ex ea commodo consequat. Duis aute\\nirure dolor in reprehenderit in voluptate velit\\n\" \"Lorem ipsum dolor sit amet, consectetur adipiscing\\nelit, sed do eiusmod tempor incididunt ut labore\\net dolore magna aliqua. Ut enim ad minim veniam,\\nquis nostrud exercitation ullamco laboris nisi ut\\naliquip ex ea commodo consequat. Duis aute\\nirure dolor in reprehenderit in voluptate velit\\n\" \"Lorem ipsum dolor sit amet, consectetur adipiscing\\nelit, sed do eiusmod tempor incididunt ut labore\\net dolore magna aliqua. Ut enim ad minim veniam,\\nquis nostrud exercitation ullamco laboris nisi ut\\naliquip ex ea commodo consequat. Duis aute\\nirure dolor in reprehenderit in voluptate velit\\n\" \"Lorem ipsum dolor sit amet, consectetur adipiscing\\nelit, sed do eiusmod tempor incididunt ut labore\\net dolore magna aliqua. Ut enim ad minim veniam,\\nquis nostrud exercitation ullamco laboris nisi ut\\naliquip ex ea commodo consequat. Duis aute\\nirure dolor in reprehenderit in voluptate velit\\n\" \"Lorem ipsum dolor sit amet, consectetur adipiscing\\nelit, sed do eiusmod tempor incididunt ut labore\\net dolore magna aliqua. Ut enim ad minim veniam,\\nquis nostrud exercitation ullamco laboris nisi ut\\naliquip ex ea commodo consequat. Duis aute\\nirure dolor in reprehenderit in voluptate velit\\n\" \"Lorem ipsum dolor sit amet, consectetur adipiscing\\nelit, sed do eiusmod tempor incididunt ut labore\\net dolore magna aliqua. Ut enim ad minim veniam,\\nquis nostrud exercitation ullamco laboris nisi ut\\naliquip ex ea commodo consequat. Duis aute\\nirure dolor in reprehenderit in voluptate velit\\n\" \"Lorem ipsum dolor sit amet, consectetur adipiscing\\nelit, sed do eiusmod tempor incididunt ut labore\\net dolore magna aliqua. Ut enim ad minim veniam,\\nquis nostrud exercitation ullamco laboris nisi ut\\naliquip ex ea commodo consequat. Duis aute\\nirure dolor in reprehenderit in voluptate velit\\n\" \"Lorem ipsum dolor sit amet, consectetur adipiscing\\nelit, sed do eiusmod tempor incididunt ut labore\\net dolore magna aliqua. Ut enim ad minim veniam,\\nquis nostrud exercitation ullamco laboris nisi ut\\naliquip ex ea commodo consequat. Duis aute\\nirure dolor in reprehenderit in voluptate velit\\n\" \"Lorem ipsum dolor sit amet, consectetur adipiscing\\nelit, sed do eiusmod tempor incididunt ut labore\\net dolore magna aliqua. Ut enim ad minim veniam,\\nquis nostrud exercitation ullamco laboris nisi ut\\naliquip ex ea commodo consequat. Duis aute\\nirure dolor in reprehenderit in voluptate velit\\n\" \"Lorem ipsum dolor sit amet, consectetur adipiscing\\nelit, sed do eiusmod tempor incididunt ut labore\\net dolore magna aliqua. Ut enim ad minim veniam,\\nquis nostrud exercitation ullamco laboris nisi ut\\naliquip ex ea commodo consequat. Duis aute\\nirure dolor in reprehenderit in voluptate velit\\n\" \"Lorem ipsum dolor sit amet, consectetur adipiscing\\nelit, sed do eiusmod tempor incididunt ut labore\\net dolore magna aliqua. Ut enim ad minim veniam,\\nquis nostrud exercitation ullamco laboris nisi ut\\naliquip ex ea commodo consequat. Duis aute\\nirure dolor in reprehenderit in voluptate velit\\n\" \"Lorem ipsum dolor sit amet, consectetur adipiscing\\nelit, sed do eiusmod tempor incididunt ut labore\\net dolore magna aliqua. Ut enim ad minim veniam,\\nquis nostrud exercitation ullamco laboris nisi ut\\naliquip ex ea commodo consequat. Duis aute\\nirure dolor in reprehenderit in voluptate velit\\n\" \"Lorem ipsum dolor sit amet, consectetur adipiscing\\nelit, sed do eiusmod tempor incididunt ut labore\\net dolore magna aliqua. Ut enim ad minim veniam,\\nquis nostrud exercitation ullamco laboris nisi ut\\naliquip ex ea commodo consequat. Duis aute\\nirure dolor in reprehenderit in voluptate velit\\n\" \"Lorem ipsum dolor sit amet, consectetur adipiscing\\nelit, sed do eiusmod tempor incididunt ut labore\\net dolore magna aliqua. Ut enim ad minim veniam,\\nquis nostrud exercitation ullamco laboris nisi ut\\naliquip ex ea commodo consequat. Duis aute\\nirure dolor in reprehenderit in voluptate velit\\n\" \"Lorem ipsum dolor sit amet, consectetur adipiscing\\nelit, sed do eiusmod tempor incididunt ut labore\\net dolore magna aliqua. Ut enim ad minim veniam,\\nquis nostrud exercitation ullamco laboris nisi ut\\naliquip ex ea commodo consequat. Duis aute\\nirure dolor in reprehenderit in voluptate velit\\n\" \"Lorem ipsum dolor sit amet, consectetur adipiscing\\nelit, sed do eiusmod tempor incididunt ut labore\\net dolore magna aliqua. Ut enim ad minim veniam,\\nquis nostrud exercitation ullamco laboris nisi ut\\naliquip ex ea commodo consequat. Duis aute\\nirure dolor in reprehenderit in voluptate velit\\n\" \"Lorem ipsum dolor sit amet, consectetur adipiscing\\nelit, sed do eiusmod tempor incididunt ut labore\\net dolore magna aliqua. Ut enim ad minim veniam,\\nquis nostrud exercitation ullamco laboris nisi ut\\naliquip ex ea commodo consequat. Duis aute\\nirure dolor in reprehenderit in voluptate velit\\n\"'"
      ]
     },
     "execution_count": 181,
     "metadata": {},
     "output_type": "execute_result"
    }
   ],
   "source": [
    "stages"
   ]
  },
  {
   "cell_type": "code",
   "execution_count": null,
   "metadata": {},
   "outputs": [],
   "source": []
  }
 ],
 "metadata": {
  "kernelspec": {
   "display_name": "Python 3",
   "language": "python",
   "name": "python3"
  },
  "language_info": {
   "codemirror_mode": {
    "name": "ipython",
    "version": 3
   },
   "file_extension": ".py",
   "mimetype": "text/x-python",
   "name": "python",
   "nbconvert_exporter": "python",
   "pygments_lexer": "ipython3",
   "version": "3.6.10"
  }
 },
 "nbformat": 4,
 "nbformat_minor": 4
}
